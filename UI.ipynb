{
 "cells": [
  {
   "cell_type": "code",
   "execution_count": 8,
   "id": "8fd31ecb",
   "metadata": {},
   "outputs": [],
   "source": [
    "import pickle\n",
    "# Load the model from the pickle file\n",
    "with open('rf_model_92.pkl', 'rb') as file:\n",
    "    loaded_model = pickle.load(file)"
   ]
  },
  {
   "cell_type": "code",
   "execution_count": 9,
   "id": "5b766168",
   "metadata": {},
   "outputs": [
    {
     "name": "stderr",
     "output_type": "stream",
     "text": [
      "C:\\Users\\Priyanka Pai\\anaconda3\\lib\\site-packages\\sklearn\\base.py:450: UserWarning: X does not have valid feature names, but RandomForestClassifier was fitted with feature names\n",
      "  warnings.warn(\n"
     ]
    }
   ],
   "source": [
    "import tkinter as tk\n",
    "from tkinter import *\n",
    "import librosa\n",
    "import numpy as np\n",
    "import pygame\n",
    "from tkinter import filedialog\n",
    "from pydub import AudioSegment\n",
    "import os\n",
    "\n",
    "# Initialize Pygame for audio playback\n",
    "pygame.mixer.init()\n",
    "\n",
    "# Create the main application window\n",
    "app = tk.Tk()\n",
    "app.title(\"Music Genre Classification\")\n",
    "app.geometry(\"550x250\")\n",
    "app.config(bg = \"CadetBlue\")\n",
    "\n",
    "# Create a function to open a file dialog for browsing audio files\n",
    "def open_and_play():\n",
    "    file_path = filedialog.askopenfilename(filetypes=[(\"Audio files\", \"*.wav *.mp3\")])\n",
    "    audio_file.set(file_path)\n",
    "    if file_path:\n",
    "        pygame.mixer.music.load(file_path)\n",
    "        pygame.mixer.music.play()\n",
    "        \n",
    "    \n",
    "def pause_audio():\n",
    "    pygame.mixer.music.pause()\n",
    "    \n",
    "## Create variables to store audio file path and audio status\n",
    "audio_file = tk.StringVar()\n",
    "        \n",
    "# Create a function to classify the music genre (You need to implement this)\n",
    "def extract_features(file_path):\n",
    "    try:\n",
    "        y, sr = librosa.load(file_path)\n",
    "        mfccs = np.mean(librosa.feature.mfcc(y=y, sr=sr, n_mfcc=13), axis=1)\n",
    "        return mfccs\n",
    "    except Exception as e:\n",
    "        print(f\"Error extracting features: {str(e)}\")\n",
    "        return None\n",
    "    \n",
    "def classify_genre():\n",
    "    file_path = audio_file.get()\n",
    "    features = extract_features(file_path)\n",
    "    if features is not None:\n",
    "        predicted_genre = loaded_model.predict([features])\n",
    "        result_label.config(text=f\"Predicted Genre: {predicted_genre}\")\n",
    "\n",
    "# Create the Browse, Play/Pause, and Classify buttons\n",
    "browse_button = tk.Button(app, text=\"Browse and Play\", command=open_and_play)\n",
    "pause_button = tk.Button(app, text='Pause', command=pause_audio)\n",
    "classify_button = tk.Button(app, text=\"Classify Genre\", command=classify_genre)\n",
    "result_label = tk.Label(app, text=\"\", font=('Consolas',12), bg='CadetBlue')\n",
    "\n",
    "# Create labels and entry for audio file path\n",
    "window_label = tk.Label(app, text = \"Music Genre Classification\", font = ('COnsolas',14), bg='CadetBlue')\n",
    "audio_file_label = tk.Label(app, text=\"Audio File:\", font=('Consolas', 12), bg = \"CadetBlue\")\n",
    "audio_file_entry = tk.Entry(app, textvariable=audio_file, state=\"readonly\", width=40)\n",
    "\n",
    "# Place widgets in the window using grid layout\n",
    "window_label.grid(row=0, column=1, padx=10, pady=10)\n",
    "audio_file_label.grid(row=1, column=0, padx=10, pady=10)\n",
    "audio_file_entry.grid(row=1, column=1, padx=10, pady=10)\n",
    "browse_button.grid(row=1, column=2, padx=10, pady=10)\n",
    "\n",
    "pause_button.grid(row=2, column=1,padx=10, pady=10)\n",
    "classify_button.grid(row=3, column=0, columnspan=3, padx=10, pady=10)\n",
    "result_label.grid(row=4, column=1, padx=10, pady=10)\n",
    "\n",
    "# Start the Tkinter main loop\n",
    "app.mainloop()\n"
   ]
  },
  {
   "cell_type": "code",
   "execution_count": null,
   "id": "7d9adae4",
   "metadata": {},
   "outputs": [],
   "source": []
  }
 ],
 "metadata": {
  "kernelspec": {
   "display_name": "Python 3 (ipykernel)",
   "language": "python",
   "name": "python3"
  },
  "language_info": {
   "codemirror_mode": {
    "name": "ipython",
    "version": 3
   },
   "file_extension": ".py",
   "mimetype": "text/x-python",
   "name": "python",
   "nbconvert_exporter": "python",
   "pygments_lexer": "ipython3",
   "version": "3.9.13"
  }
 },
 "nbformat": 4,
 "nbformat_minor": 5
}
